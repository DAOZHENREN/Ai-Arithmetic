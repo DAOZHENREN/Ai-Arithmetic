{
 "metadata": {
  "kernelspec": {
   "language": "python",
   "display_name": "Python 3",
   "name": "python3"
  },
  "language_info": {
   "name": "python",
   "version": "3.10.14",
   "mimetype": "text/x-python",
   "codemirror_mode": {
    "name": "ipython",
    "version": 3
   },
   "pygments_lexer": "ipython3",
   "nbconvert_exporter": "python",
   "file_extension": ".py"
  },
  "kaggle": {
   "accelerator": "nvidiaTeslaT4",
   "dataSources": [],
   "dockerImageVersionId": 30787,
   "isInternetEnabled": true,
   "language": "python",
   "sourceType": "notebook",
   "isGpuEnabled": true
  }
 },
 "nbformat_minor": 4,
 "nbformat": 4,
 "cells": [
  {
   "metadata": {
    "execution": {
     "iopub.status.busy": "2024-10-31T10:24:02.909111Z",
     "iopub.execute_input": "2024-10-31T10:24:02.909389Z",
     "iopub.status.idle": "2024-10-31T10:24:19.166729Z",
     "shell.execute_reply.started": "2024-10-31T10:24:02.909361Z",
     "shell.execute_reply": "2024-10-31T10:24:19.165832Z"
    },
    "trusted": true
   },
   "cell_type": "code",
   "source": [
    "import os\n",
    "import numpy as np\n",
    "from sklearn.model_selection import train_test_split\n",
    "from PIL import Image\n",
    "from tensorflow.keras.preprocessing.image import ImageDataGenerator\n",
    "import random\n",
    "\n",
    "# 定义数据集路径\n",
    "data_folder = 'qmnist/all'\n",
    "x_data = []\n",
    "y_data = []\n",
    "\n",
    "# 加载图像和标签\n",
    "for label in range(10):\n",
    "    label_folder = os.path.join(data_folder, str(label))\n",
    "    images = []\n",
    "\n",
    "    for img_name in os.listdir(label_folder):\n",
    "        img_path = os.path.join(label_folder, img_name)\n",
    "        \n",
    "        # 加载并处理图像\n",
    "        image = Image.open(img_path).convert('L')  # 转换为灰度图\n",
    "        image = image.resize((28, 28))  # 调整大小\n",
    "        image_array = np.array(image)\n",
    "        images.append(image_array)\n",
    "    \n",
    "    x_data.extend(images)\n",
    "    y_data.extend([label] * len(images))\n",
    "\n",
    "# 转换为NumPy数组\n",
    "x_data = np.array(x_data)\n",
    "y_data = np.array(y_data)\n",
    "\n",
    "# 直接使用所有样本\n",
    "x_balanced = x_data\n",
    "y_balanced = y_data\n",
    "\n",
    "# 按比例拆分数据集（例如，80% 训练集，20% 测试集）\n",
    "x_train, x_test, y_train, y_test = train_test_split(x_balanced, y_balanced, test_size=0.2, random_state=42)\n",
    "\n",
    "# 确保数据集的形状符合TensorFlow的要求\n",
    "x_train = x_train.reshape(-1, 28, 28, 1).astype('float32') \n",
    "x_test = x_test.reshape(-1, 28, 28, 1).astype('float32')\n",
    "\n",
    "# CREATE MORE IMAGES VIA DATA AUGMENTATION\n",
    "datagen = ImageDataGenerator(\n",
    "        rotation_range=10,  \n",
    "        zoom_range = 0.10,  \n",
    "        width_shift_range=0.1, \n",
    "        height_shift_range=0.1)\n",
    "# 适配数据生成器\n",
    "datagen.fit(x_train)\n",
    "\n",
    "# 打印每种图片的数量\n",
    "unique, counts = np.unique(y_balanced, return_counts=True)\n",
    "print(\"每种图片数量:\")\n",
    "for label, count in zip(unique, counts):\n",
    "    print(f'类别 {label}: {count} 张')\n"
   ],
   "outputs": [],
   "execution_count": null
  },
  {
   "cell_type": "code",
   "source": [
    "import numpy as np\n",
    "from keras.datasets import mnist\n",
    "from tensorflow.python.keras.backend import set_session\n",
    "from tensorflow.python.keras.models import load_model\n",
    "from tensorflow.keras.models import Model, load_model, Sequential\n",
    "from tensorflow.keras.layers import Input,Conv2D, Dense, MaxPooling2D, Softmax, Activation, BatchNormalization, Flatten, Dropout, DepthwiseConv2D\n",
    "from tensorflow.keras.layers import MaxPool2D, AvgPool2D, AveragePooling2D, GlobalAveragePooling2D,ZeroPadding2D,Input,Embedding,PReLU,Reshape\n",
    "from keras.callbacks import ModelCheckpoint\n",
    "from keras.callbacks import TensorBoard\n",
    "from keras.utils import to_categorical\n",
    "import keras.backend as K\n",
    "import tensorflow as tf\n",
    "import time\n",
    "# \n",
    "# from os import environ\n",
    "# environ['CUDA_VISIBLE_DEVICES'] = '0'"
   ],
   "metadata": {
    "execution": {
     "iopub.status.busy": "2024-10-31T10:24:19.168766Z",
     "iopub.execute_input": "2024-10-31T10:24:19.169155Z",
     "iopub.status.idle": "2024-10-31T10:24:19.176710Z",
     "shell.execute_reply.started": "2024-10-31T10:24:19.169117Z",
     "shell.execute_reply": "2024-10-31T10:24:19.175667Z"
    },
    "trusted": true
   },
   "outputs": [],
   "execution_count": null
  },
  {
   "cell_type": "code",
   "source": "# (x_train,y_train), (x_test,y_test) = mnist.load_data() \n",
   "metadata": {
    "execution": {
     "iopub.status.busy": "2024-10-31T10:24:19.177789Z",
     "iopub.execute_input": "2024-10-31T10:24:19.178160Z",
     "iopub.status.idle": "2024-10-31T10:24:19.188291Z",
     "shell.execute_reply.started": "2024-10-31T10:24:19.178106Z",
     "shell.execute_reply": "2024-10-31T10:24:19.187360Z"
    },
    "trusted": true
   },
   "outputs": [],
   "execution_count": null
  },
  {
   "cell_type": "code",
   "source": "x_train = x_train.reshape(x_train.shape[0],x_train.shape[1],x_train.shape[2],1)/255\nx_test = x_test.reshape(x_test.shape[0],x_test.shape[1],x_test.shape[2],1)/255\n\ny_train = to_categorical(y_train,num_classes=10) \ny_test = to_categorical(y_test,num_classes=10)",
   "metadata": {
    "execution": {
     "iopub.status.busy": "2024-10-31T10:24:19.189437Z",
     "iopub.execute_input": "2024-10-31T10:24:19.189748Z",
     "iopub.status.idle": "2024-10-31T10:24:19.226422Z",
     "shell.execute_reply.started": "2024-10-31T10:24:19.189717Z",
     "shell.execute_reply": "2024-10-31T10:24:19.225601Z"
    },
    "trusted": true
   },
   "outputs": [],
   "execution_count": null
  },
  {
   "metadata": {},
   "cell_type": "code",
   "source": [
    "#mnist_dw\n",
    "\n",
    "def init_model(dim0):\n",
    "    model = Sequential()\n",
    "\n",
    "    # 第一个卷积层\n",
    "    model.add(Conv2D(dim0, (3, 3), padding='same', strides=(2, 2),\n",
    "                     input_shape=(28, 28, 1), name='ftr0a'))\n",
    "    model.add(BatchNormalization(name=\"bn0\"))\n",
    "    model.add(Activation('relu', name=\"relu0\"))\n",
    "    \n",
    "    # 第一个深度可分离卷积层\n",
    "    model.add(DepthwiseConv2D((3, 3), padding='same', name='ftr0b'))\n",
    "    model.add(BatchNormalization())\n",
    "    model.add(Activation('relu', name=\"relu00\"))\n",
    "\n",
    "    # 第二个卷积层\n",
    "    model.add(Conv2D(dim0 * 4, (3, 3), padding='same', strides=(2, 2), name='ftr1a'))\n",
    "    model.add(BatchNormalization(name=\"bn1\"))\n",
    "    model.add(Activation('relu', name=\"relu1\"))\n",
    "    \n",
    "    # 第二个深度可分离卷积层\n",
    "    model.add(DepthwiseConv2D((3, 3), padding='same', depth_multiplier=2, name='ftr1b'))\n",
    "    model.add(BatchNormalization())\n",
    "    model.add(Activation('relu', name=\"relu11\"))\n",
    "\n",
    "    model.add(Dropout(0.3))  # 添加 Dropout 层\n",
    "\n",
    "    # 全局平均池化层\n",
    "    model.add(GlobalAveragePooling2D(name='GAP'))\n",
    "    model.add(Dropout(0.3))  # 添加 Dropout 层\n",
    "    \n",
    "    # 全连接层\n",
    "    model.add(Dense(10, name=\"fc1\"))\n",
    "    model.add(Activation('softmax', name=\"sm\"))\n",
    "\n",
    "    return model\n",
    "\n",
    "# 设置参数并初始化模型\n",
    "DIM0 = 4\n",
    "model = init_model(DIM0)\n",
    "model.summary()"
   ],
   "outputs": [],
   "execution_count": null
  },
  {
   "cell_type": "code",
   "source": "# EPOCHS = 20\n# model.compile(optimizer='adam', loss = \"categorical_crossentropy\", metrics = [\"categorical_accuracy\"]) \n# H = model.fit(x_train, y_train, batch_size=64, epochs= EPOCHS,  verbose= 1, validation_data = (x_test, y_test), shuffle=True) ",
   "metadata": {
    "execution": {
     "iopub.status.busy": "2024-10-31T10:24:19.439893Z",
     "iopub.execute_input": "2024-10-31T10:24:19.440238Z",
     "iopub.status.idle": "2024-10-31T10:24:19.449655Z",
     "shell.execute_reply.started": "2024-10-31T10:24:19.440204Z",
     "shell.execute_reply": "2024-10-31T10:24:19.448629Z"
    },
    "trusted": true
   },
   "outputs": [],
   "execution_count": null
  },
  {
   "cell_type": "code",
   "source": [
    "# 训练模型\n",
    "EPOCHS = 20\n",
    "\n",
    "# 编译模型\n",
    "model.compile(optimizer='adam', loss=\"categorical_crossentropy\", metrics=[\"categorical_accuracy\"])\n",
    "\n",
    "# 创建数据增强生成器\n",
    "train_generator = datagen.flow(x_train, y_train, batch_size=128)\n",
    "\n",
    "\n",
    "\n",
    "# 使用数据生成器进行训练\n",
    "model.fit(train_generator,\n",
    "          epochs=EPOCHS,\n",
    "          verbose=1,\n",
    "          # validation_data=(x_test, y_test),  # 保持验证数据不变\n",
    "           validation_data=datagen.flow(x_test, y_test),\n",
    "          shuffle=True)\n"
   ],
   "metadata": {
    "execution": {
     "iopub.status.busy": "2024-10-31T10:24:19.450856Z",
     "iopub.execute_input": "2024-10-31T10:24:19.451167Z",
     "iopub.status.idle": "2024-10-31T10:27:24.817605Z",
     "shell.execute_reply.started": "2024-10-31T10:24:19.451135Z",
     "shell.execute_reply": "2024-10-31T10:27:24.816715Z"
    },
    "trusted": true
   },
   "outputs": [],
   "execution_count": null
  },
  {
   "cell_type": "code",
   "source": [
    "h5_file = \"mnist.h5\"\n",
    "model.save(h5_file)\n",
    "model.export(\"mnist\")"
   ],
   "metadata": {
    "execution": {
     "iopub.status.busy": "2024-10-31T10:27:24.818916Z",
     "iopub.execute_input": "2024-10-31T10:27:24.819579Z",
     "iopub.status.idle": "2024-10-31T10:27:25.480833Z",
     "shell.execute_reply.started": "2024-10-31T10:27:24.819533Z",
     "shell.execute_reply": "2024-10-31T10:27:25.479892Z"
    },
    "trusted": true
   },
   "outputs": [],
   "execution_count": null
  },
  {
   "cell_type": "code",
   "source": "data = x_test[1]\nfor y in range(28):\n    for x in range(28):\n        print(\"%3d,\"%(int(data[y,x,0]*255)), end=\"\")\n    print(\"\")",
   "metadata": {
    "execution": {
     "iopub.status.busy": "2024-10-31T10:27:26.570125Z",
     "iopub.execute_input": "2024-10-31T10:27:26.570486Z",
     "iopub.status.idle": "2024-10-31T10:27:26.589475Z",
     "shell.execute_reply.started": "2024-10-31T10:27:26.570452Z",
     "shell.execute_reply": "2024-10-31T10:27:26.588572Z"
    },
    "trusted": true
   },
   "outputs": [],
   "execution_count": null
  },
  {
   "cell_type": "code",
   "source": "result = model.predict(x_test[1:2])[0]\nresult",
   "metadata": {
    "execution": {
     "iopub.status.busy": "2024-10-31T10:27:26.590665Z",
     "iopub.execute_input": "2024-10-31T10:27:26.591041Z",
     "iopub.status.idle": "2024-10-31T10:27:26.906483Z",
     "shell.execute_reply.started": "2024-10-31T10:27:26.590999Z",
     "shell.execute_reply": "2024-10-31T10:27:26.905487Z"
    },
    "trusted": true
   },
   "outputs": [],
   "execution_count": null
  },
  {
   "metadata": {},
   "cell_type": "code",
   "source": [
    "# 调用转换脚本\n",
    "!python tools/h5_to_tflite.py mnist mnist.tflite 1 qmnist/all 0to1\n",
    "!python tools/tflite2tmdl.py mnist.tflite mnist.tmdl int8 1 28,28,1 10 1"
   ],
   "outputs": [],
   "execution_count": null
  }
 ]
}
