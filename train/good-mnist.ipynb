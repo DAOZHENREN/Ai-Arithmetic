{
 "metadata": {
  "kernelspec": {
   "language": "python",
   "display_name": "Python 3",
   "name": "python3"
  },
  "language_info": {
   "name": "python",
   "version": "3.10.14",
   "mimetype": "text/x-python",
   "codemirror_mode": {
    "name": "ipython",
    "version": 3
   },
   "pygments_lexer": "ipython3",
   "nbconvert_exporter": "python",
   "file_extension": ".py"
  },
  "kaggle": {
   "accelerator": "nvidiaTeslaT4",
   "dataSources": [],
   "dockerImageVersionId": 30787,
   "isInternetEnabled": true,
   "language": "python",
   "sourceType": "notebook",
   "isGpuEnabled": true
  }
 },
 "nbformat_minor": 4,
 "nbformat": 4,
 "cells": [
  {
   "metadata": {
    "ExecuteTime": {
     "end_time": "2024-11-09T08:28:11.489487Z",
     "start_time": "2024-11-09T08:28:11.472880Z"
    }
   },
   "cell_type": "code",
   "source": "NUM = 14",
   "outputs": [],
   "execution_count": 1
  },
  {
   "metadata": {
    "execution": {
     "iopub.status.busy": "2024-10-31T10:24:02.909111Z",
     "iopub.execute_input": "2024-10-31T10:24:02.909389Z",
     "iopub.status.idle": "2024-10-31T10:24:19.166729Z",
     "shell.execute_reply.started": "2024-10-31T10:24:02.909361Z",
     "shell.execute_reply": "2024-10-31T10:24:19.165832Z"
    },
    "trusted": true,
    "ExecuteTime": {
     "end_time": "2024-11-09T08:30:18.425436Z",
     "start_time": "2024-11-09T08:28:11.504885Z"
    }
   },
   "cell_type": "code",
   "source": [
    "import os\n",
    "import numpy as np\n",
    "from sklearn.model_selection import train_test_split\n",
    "from PIL import Image\n",
    "from tensorflow.keras.preprocessing.image import ImageDataGenerator\n",
    "import random\n",
    "\n",
    "# 定义数据集路径\n",
    "data_folder = 'qmnist/all'\n",
    "x_data = []\n",
    "y_data = []\n",
    "\n",
    "# 加载图像和标签\n",
    "for label in range(NUM):\n",
    "    label_folder = os.path.join(data_folder, str(label))\n",
    "    images = []\n",
    "\n",
    "    for img_name in os.listdir(label_folder):\n",
    "        img_path = os.path.join(label_folder, img_name)\n",
    "        \n",
    "        # 加载并处理图像\n",
    "        image = Image.open(img_path).convert('L')  # 转换为灰度图\n",
    "        image = image.resize((28, 28))  # 调整大小\n",
    "        image_array = np.array(image)\n",
    "        images.append(image_array)\n",
    "    \n",
    "    x_data.extend(images)\n",
    "    y_data.extend([label] * len(images))\n",
    "\n",
    "# 转换为NumPy数组\n",
    "x_data = np.array(x_data)\n",
    "y_data = np.array(y_data)\n",
    "\n",
    "# 直接使用所有样本\n",
    "x_balanced = x_data\n",
    "y_balanced = y_data\n",
    "\n",
    "# 按比例拆分数据集（例如，80% 训练集，20% 测试集）\n",
    "x_train, x_test, y_train, y_test = train_test_split(x_balanced, y_balanced, test_size=0.2, random_state=42)\n",
    "\n",
    "# 确保数据集的形状符合TensorFlow的要求\n",
    "x_train = x_train.reshape(-1, 28, 28, 1).astype('float32') \n",
    "x_test = x_test.reshape(-1, 28, 28, 1).astype('float32')\n",
    "\n",
    "# CREATE MORE IMAGES VIA DATA AUGMENTATION\n",
    "datagen = ImageDataGenerator(\n",
    "        # rotation_range=1,  \n",
    "        # zoom_range = (0.9, 1),\n",
    "        # width_shift_range=0.1, \n",
    "        # height_shift_range=0.1\n",
    ")\n",
    "# 适配数据生成器\n",
    "datagen.fit(x_train)\n",
    "\n",
    "# 打印每种图片的数量\n",
    "unique, counts = np.unique(y_balanced, return_counts=True)\n",
    "print(\"每种图片数量:\")\n",
    "for label, count in zip(unique, counts):\n",
    "    print(f'类别 {label}: {count} 张')\n"
   ],
   "outputs": [
    {
     "name": "stdout",
     "output_type": "stream",
     "text": [
      "每种图片数量:\n",
      "类别 0: 11875 张\n",
      "类别 1: 13533 张\n",
      "类别 2: 11984 张\n",
      "类别 3: 12215 张\n",
      "类别 4: 11622 张\n",
      "类别 5: 10875 张\n",
      "类别 6: 11875 张\n",
      "类别 7: 12496 张\n",
      "类别 8: 11741 张\n",
      "类别 9: 11784 张\n",
      "类别 10: 10118 张\n",
      "类别 11: 13000 张\n",
      "类别 12: 10204 张\n",
      "类别 13: 8468 张\n"
     ]
    }
   ],
   "execution_count": 2
  },
  {
   "cell_type": "code",
   "source": [
    "import numpy as np\n",
    "from keras.datasets import mnist\n",
    "from tensorflow.python.keras.backend import set_session\n",
    "from tensorflow.python.keras.models import load_model\n",
    "from tensorflow.keras.models import Model, load_model, Sequential\n",
    "from tensorflow.keras.layers import Input,Conv2D, Dense, MaxPooling2D, Softmax, Activation, BatchNormalization, Flatten, Dropout, DepthwiseConv2D\n",
    "from tensorflow.keras.layers import MaxPool2D, AvgPool2D, AveragePooling2D, GlobalAveragePooling2D,ZeroPadding2D,Input,Embedding,PReLU,Reshape\n",
    "from tensorflow import keras\n",
    "from keras.callbacks import ModelCheckpoint\n",
    "from keras.callbacks import TensorBoard\n",
    "from keras.utils import to_categorical\n",
    "import keras.backend as K\n",
    "import tensorflow as tf\n",
    "import time\n",
    "# \n",
    "# from os import environ\n",
    "# environ['CUDA_VISIBLE_DEVICES'] = '0'"
   ],
   "metadata": {
    "execution": {
     "iopub.status.busy": "2024-10-31T10:24:19.168766Z",
     "iopub.execute_input": "2024-10-31T10:24:19.169155Z",
     "iopub.status.idle": "2024-10-31T10:24:19.176710Z",
     "shell.execute_reply.started": "2024-10-31T10:24:19.169117Z",
     "shell.execute_reply": "2024-10-31T10:24:19.175667Z"
    },
    "trusted": true,
    "ExecuteTime": {
     "end_time": "2024-11-09T08:30:18.752320Z",
     "start_time": "2024-11-09T08:30:18.737295Z"
    }
   },
   "outputs": [],
   "execution_count": 3
  },
  {
   "cell_type": "code",
   "source": "# (x_train,y_train), (x_test,y_test) = mnist.load_data() \n",
   "metadata": {
    "execution": {
     "iopub.status.busy": "2024-10-31T10:24:19.177789Z",
     "iopub.execute_input": "2024-10-31T10:24:19.178160Z",
     "iopub.status.idle": "2024-10-31T10:24:19.188291Z",
     "shell.execute_reply.started": "2024-10-31T10:24:19.178106Z",
     "shell.execute_reply": "2024-10-31T10:24:19.187360Z"
    },
    "trusted": true,
    "ExecuteTime": {
     "end_time": "2024-11-09T08:30:18.782873Z",
     "start_time": "2024-11-09T08:30:18.769842Z"
    }
   },
   "outputs": [],
   "execution_count": 4
  },
  {
   "cell_type": "code",
   "source": [
    "x_train = x_train.reshape(x_train.shape[0],x_train.shape[1],x_train.shape[2],1)/255\n",
    "x_test = x_test.reshape(x_test.shape[0],x_test.shape[1],x_test.shape[2],1)/255\n",
    "\n",
    "y_train = to_categorical(y_train,num_classes=NUM) \n",
    "y_test = to_categorical(y_test,num_classes=NUM)"
   ],
   "metadata": {
    "execution": {
     "iopub.status.busy": "2024-10-31T10:24:19.189437Z",
     "iopub.execute_input": "2024-10-31T10:24:19.189748Z",
     "iopub.status.idle": "2024-10-31T10:24:19.226422Z",
     "shell.execute_reply.started": "2024-10-31T10:24:19.189717Z",
     "shell.execute_reply": "2024-10-31T10:24:19.225601Z"
    },
    "trusted": true,
    "ExecuteTime": {
     "end_time": "2024-11-09T08:30:18.907810Z",
     "start_time": "2024-11-09T08:30:18.799392Z"
    }
   },
   "outputs": [],
   "execution_count": 5
  },
  {
   "metadata": {
    "ExecuteTime": {
     "end_time": "2024-11-09T08:30:19.064314Z",
     "start_time": "2024-11-09T08:30:18.924412Z"
    }
   },
   "cell_type": "code",
   "source": [
    "def init_model(dim0):\n",
    "    model = Sequential()\n",
    "\n",
    "    # 第一个卷积层\n",
    "    model.add(Conv2D(dim0 * 8, (3, 3), padding='same', strides=(2, 2),\n",
    "                     input_shape=(28, 28, 1), name='ftr0a'))\n",
    "    model.add(BatchNormalization(name=\"bn0\"))\n",
    "    model.add(Activation('relu', name=\"relu0\"))\n",
    "    model.add(Dropout(0.3))  # 添加 Dropout 层\n",
    "\n",
    "\n",
    "    # # 第一个深度可分离卷积层\n",
    "    # model.add(DepthwiseConv2D((3, 3), padding='same', name='ftr0b'))\n",
    "    # model.add(BatchNormalization())\n",
    "    # model.add(Activation('relu', name=\"relu00\"))\n",
    "    # model.add(Dropout(0.3))  # 添加 Dropout 层\n",
    "\n",
    "\n",
    "    # 第二个卷积层\n",
    "    model.add(Conv2D(dim0 * 4, (3, 3), padding='same', strides=(2, 2), name='ftr1a'))\n",
    "    model.add(BatchNormalization(name=\"bn1\"))\n",
    "    model.add(Activation('relu', name=\"relu1\"))\n",
    "\n",
    "    # # 第二个深度可分离卷积层\n",
    "    # model.add(DepthwiseConv2D((3, 3), padding='same', depth_multiplier=2, name='ftr1b'))\n",
    "    # model.add(BatchNormalization())\n",
    "    # model.add(Activation('relu', name=\"relu11\"))\n",
    "    # model.add(Dropout(0.3))  # 添加 Dropout 层\n",
    "\n",
    "    # # 全局平均池化层\n",
    "    # model.add(GlobalAveragePooling2D(name='GAP'))\n",
    "    # model.add(Dropout(0.3))  # 添加 Dropout 层\n",
    "\n",
    "    model.add(Flatten())\n",
    "\n",
    "    # 全连接层\n",
    "    model.add(Dense(16, name=\"fc1\"))\n",
    "    model.add(Activation('softmax', name=\"sm1\"))\n",
    "    model.add(Dropout(0.3))  # 添加 Dropout 层\n",
    "\n",
    "    # 全连接层\n",
    "    model.add(Dense(NUM, name=\"fc2\"))\n",
    "    model.add(Dropout(0.3))  # 添加 Dropout 层\n",
    "    model.add(Activation('softmax', name=\"sm2\"))\n",
    "\n",
    "    return model\n",
    "\n",
    "# 设置参数并初始化模型\n",
    "DIM0 = 3\n",
    "model = init_model(DIM0)\n",
    "model.summary()"
   ],
   "outputs": [
    {
     "name": "stdout",
     "output_type": "stream",
     "text": [
      "Model: \"sequential\"\n",
      "_________________________________________________________________\n",
      " Layer (type)                Output Shape              Param #   \n",
      "=================================================================\n",
      " ftr0a (Conv2D)              (None, 14, 14, 24)        240       \n",
      "                                                                 \n",
      " bn0 (BatchNormalization)    (None, 14, 14, 24)        96        \n",
      "                                                                 \n",
      " relu0 (Activation)          (None, 14, 14, 24)        0         \n",
      "                                                                 \n",
      " dropout (Dropout)           (None, 14, 14, 24)        0         \n",
      "                                                                 \n",
      " ftr1a (Conv2D)              (None, 7, 7, 12)          2604      \n",
      "                                                                 \n",
      " bn1 (BatchNormalization)    (None, 7, 7, 12)          48        \n",
      "                                                                 \n",
      " relu1 (Activation)          (None, 7, 7, 12)          0         \n",
      "                                                                 \n",
      " flatten (Flatten)           (None, 588)               0         \n",
      "                                                                 \n",
      " fc1 (Dense)                 (None, 16)                9424      \n",
      "                                                                 \n",
      " sm1 (Activation)            (None, 16)                0         \n",
      "                                                                 \n",
      " dropout_1 (Dropout)         (None, 16)                0         \n",
      "                                                                 \n",
      " fc2 (Dense)                 (None, 14)                238       \n",
      "                                                                 \n",
      " dropout_2 (Dropout)         (None, 14)                0         \n",
      "                                                                 \n",
      " sm2 (Activation)            (None, 14)                0         \n",
      "                                                                 \n",
      "=================================================================\n",
      "Total params: 12650 (49.41 KB)\n",
      "Trainable params: 12578 (49.13 KB)\n",
      "Non-trainable params: 72 (288.00 Byte)\n",
      "_________________________________________________________________\n"
     ]
    }
   ],
   "execution_count": 6
  },
  {
   "metadata": {
    "ExecuteTime": {
     "end_time": "2024-11-09T08:30:19.141674Z",
     "start_time": "2024-11-09T08:30:19.130174Z"
    }
   },
   "cell_type": "code",
   "source": [
    "# from tensorflow.keras.models import Sequential\n",
    "# from tensorflow.keras.layers import Conv2D, BatchNormalization, Activation, Dropout, Flatten, Dense, GlobalAveragePooling2D\n",
    "# \n",
    "# def init_model(dim0):\n",
    "#     model = Sequential()\n",
    "# \n",
    "#     # 第一个卷积层\n",
    "#     model.add(Conv2D(dim0 * 8, (3, 3), padding='same', strides=(2, 2), input_shape=(28, 28, 1), name='ftr0a'))\n",
    "#     model.add(BatchNormalization(name=\"bn0\"))\n",
    "#     model.add(Activation('relu', name=\"relu0\"))\n",
    "#     model.add(Dropout(0.3))\n",
    "# \n",
    "#     # 第二个卷积层\n",
    "#     model.add(Conv2D(dim0 * 4, (3, 3), padding='same', strides=(2, 2), name='ftr1a'))\n",
    "#     model.add(BatchNormalization(name=\"bn1\"))\n",
    "#     model.add(Activation('relu', name=\"relu1\"))\n",
    "# \n",
    "#     # 全局平均池化层\n",
    "#     model.add(GlobalAveragePooling2D(name='GAP'))\n",
    "#     model.add(Dropout(0.3))\n",
    "# \n",
    "#     # 全连接层\n",
    "#     model.add(Dense(64, name=\"fc1\"))\n",
    "#     model.add(Activation('relu', name=\"relu_fc1\"))\n",
    "#     model.add(Dropout(0.3))\n",
    "# \n",
    "#     # 输出层\n",
    "#     model.add(Dense(NUM, name=\"fc2\"))\n",
    "#     model.add(Activation('softmax', name=\"sm2\"))\n",
    "# \n",
    "#     return model\n",
    "# \n",
    "# # 设置参数并初始化模型\n",
    "# DIM0 = 3\n",
    "# model = init_model(DIM0)\n",
    "# model.summary()\n"
   ],
   "outputs": [],
   "execution_count": 7
  },
  {
   "cell_type": "code",
   "source": [
    "import matplotlib.pyplot as plt\n",
    "from tensorflow.keras.callbacks import EarlyStopping, ModelCheckpoint\n",
    "\n",
    "# 编译模型\n",
    "model.compile(optimizer='adam', loss=\"categorical_crossentropy\", metrics=[\"categorical_accuracy\"])\n",
    "\n",
    "# 创建数据增强生成器\n",
    "train_generator = datagen.flow(x_train, y_train, batch_size=128)\n",
    "\n",
    "# 定义早停回调\n",
    "early_stopping = EarlyStopping(monitor='val_loss', patience=5)\n",
    "\n",
    "# 定义模型检查点回调，保存验证损失最小的模型\n",
    "model_checkpoint = ModelCheckpoint('best_model.h5', monitor='val_loss', save_best_only=True, mode='min')\n",
    "\n",
    "# 使用数据生成器进行训练，并获取 History 对象\n",
    "history = model.fit(train_generator,\n",
    "                    batch_size=128,\n",
    "                    epochs=30,\n",
    "                    verbose=2,\n",
    "                    validation_data=(x_test, y_test),\n",
    "                    callbacks=[early_stopping, model_checkpoint],\n",
    "                    shuffle=True)\n",
    "\n",
    "# 加载最佳模型权重\n",
    "model.load_weights('best_model.h5')\n",
    "\n",
    "# 绘制训练和验证的损失和准确率曲线\n",
    "def plot_training_history(history):\n",
    "    # 绘制训练 & 验证损失值\n",
    "    plt.figure(figsize=(12, 4))\n",
    "    plt.subplot(1, 2, 1)\n",
    "    plt.plot(history.history['loss'], label='Train Loss')\n",
    "    plt.plot(history.history['val_loss'], label='Validation Loss')\n",
    "    plt.title('Model Loss')\n",
    "    plt.xlabel('Epoch')\n",
    "    plt.ylabel('Loss')\n",
    "    plt.legend(loc='upper right')\n",
    "\n",
    "    # 绘制训练 & 验证准确率值\n",
    "    plt.subplot(1, 2, 2)\n",
    "    plt.plot(history.history['categorical_accuracy'], label='Train Accuracy')\n",
    "    plt.plot(history.history['val_categorical_accuracy'], label='Validation Accuracy')\n",
    "    plt.title('Model Accuracy')\n",
    "    plt.xlabel('Epoch')\n",
    "    plt.ylabel('Accuracy')\n",
    "    plt.legend(loc='lower right')\n",
    "\n",
    "    plt.show()\n",
    "\n",
    "plot_training_history(history)\n"
   ],
   "metadata": {
    "execution": {
     "iopub.status.busy": "2024-10-31T10:24:19.450856Z",
     "iopub.execute_input": "2024-10-31T10:24:19.451167Z",
     "iopub.status.idle": "2024-10-31T10:27:24.817605Z",
     "shell.execute_reply.started": "2024-10-31T10:24:19.451135Z",
     "shell.execute_reply": "2024-10-31T10:27:24.816715Z"
    },
    "trusted": true,
    "ExecuteTime": {
     "end_time": "2024-11-09T08:36:57.621145Z",
     "start_time": "2024-11-09T08:30:19.156787Z"
    }
   },
   "outputs": [
    {
     "name": "stdout",
     "output_type": "stream",
     "text": [
      "Epoch 1/30\n",
      "1012/1012 - 17s - loss: 2.0757 - categorical_accuracy: 0.3196 - val_loss: 1.5533 - val_categorical_accuracy: 0.5550 - 17s/epoch - 17ms/step\n",
      "Epoch 2/30\n"
     ]
    },
    {
     "name": "stderr",
     "output_type": "stream",
     "text": [
      "E:\\ai-arithmetic\\ai-arithmetic\\train\\.venv\\lib\\site-packages\\keras\\src\\engine\\training.py:3079: UserWarning: You are saving your model as an HDF5 file via `model.save()`. This file format is considered legacy. We recommend using instead the native Keras format, e.g. `model.save('my_model.keras')`.\n",
      "  saving_api.save_model(\n"
     ]
    },
    {
     "name": "stdout",
     "output_type": "stream",
     "text": [
      "1012/1012 - 15s - loss: 1.7438 - categorical_accuracy: 0.3779 - val_loss: 1.2157 - val_categorical_accuracy: 0.5938 - 15s/epoch - 15ms/step\n",
      "Epoch 3/30\n",
      "1012/1012 - 17s - loss: 1.6588 - categorical_accuracy: 0.3956 - val_loss: 1.0302 - val_categorical_accuracy: 0.6661 - 17s/epoch - 17ms/step\n",
      "Epoch 4/30\n",
      "1012/1012 - 17s - loss: 1.5695 - categorical_accuracy: 0.4246 - val_loss: 0.8360 - val_categorical_accuracy: 0.7407 - 17s/epoch - 17ms/step\n",
      "Epoch 5/30\n",
      "1012/1012 - 17s - loss: 1.5025 - categorical_accuracy: 0.4423 - val_loss: 0.7358 - val_categorical_accuracy: 0.7422 - 17s/epoch - 17ms/step\n",
      "Epoch 6/30\n",
      "1012/1012 - 16s - loss: 1.4272 - categorical_accuracy: 0.4850 - val_loss: 0.5738 - val_categorical_accuracy: 0.8554 - 16s/epoch - 15ms/step\n",
      "Epoch 7/30\n",
      "1012/1012 - 15s - loss: 1.2894 - categorical_accuracy: 0.5428 - val_loss: 0.4024 - val_categorical_accuracy: 0.9736 - 15s/epoch - 15ms/step\n",
      "Epoch 8/30\n",
      "1012/1012 - 15s - loss: 1.2228 - categorical_accuracy: 0.5624 - val_loss: 0.3063 - val_categorical_accuracy: 0.9754 - 15s/epoch - 15ms/step\n",
      "Epoch 9/30\n",
      "1012/1012 - 15s - loss: 1.1836 - categorical_accuracy: 0.5701 - val_loss: 0.2548 - val_categorical_accuracy: 0.9805 - 15s/epoch - 15ms/step\n",
      "Epoch 10/30\n",
      "1012/1012 - 14s - loss: 1.1573 - categorical_accuracy: 0.5760 - val_loss: 0.2137 - val_categorical_accuracy: 0.9807 - 14s/epoch - 14ms/step\n",
      "Epoch 11/30\n",
      "1012/1012 - 15s - loss: 1.1419 - categorical_accuracy: 0.5816 - val_loss: 0.1911 - val_categorical_accuracy: 0.9817 - 15s/epoch - 15ms/step\n",
      "Epoch 12/30\n",
      "1012/1012 - 15s - loss: 1.1281 - categorical_accuracy: 0.5833 - val_loss: 0.2557 - val_categorical_accuracy: 0.9777 - 15s/epoch - 15ms/step\n",
      "Epoch 13/30\n",
      "1012/1012 - 15s - loss: 1.1027 - categorical_accuracy: 0.5885 - val_loss: 0.1517 - val_categorical_accuracy: 0.9843 - 15s/epoch - 15ms/step\n",
      "Epoch 14/30\n",
      "1012/1012 - 15s - loss: 1.0803 - categorical_accuracy: 0.5952 - val_loss: 0.1400 - val_categorical_accuracy: 0.9863 - 15s/epoch - 15ms/step\n",
      "Epoch 15/30\n",
      "1012/1012 - 15s - loss: 1.0630 - categorical_accuracy: 0.6014 - val_loss: 0.1205 - val_categorical_accuracy: 0.9849 - 15s/epoch - 15ms/step\n",
      "Epoch 16/30\n",
      "1012/1012 - 14s - loss: 1.0579 - categorical_accuracy: 0.6016 - val_loss: 0.1110 - val_categorical_accuracy: 0.9861 - 14s/epoch - 14ms/step\n",
      "Epoch 17/30\n",
      "1012/1012 - 15s - loss: 1.0534 - categorical_accuracy: 0.6041 - val_loss: 0.1052 - val_categorical_accuracy: 0.9871 - 15s/epoch - 15ms/step\n",
      "Epoch 18/30\n",
      "1012/1012 - 15s - loss: 1.0489 - categorical_accuracy: 0.6048 - val_loss: 0.1019 - val_categorical_accuracy: 0.9868 - 15s/epoch - 15ms/step\n",
      "Epoch 19/30\n",
      "1012/1012 - 15s - loss: 1.0426 - categorical_accuracy: 0.6104 - val_loss: 0.0994 - val_categorical_accuracy: 0.9865 - 15s/epoch - 15ms/step\n",
      "Epoch 20/30\n",
      "1012/1012 - 15s - loss: 1.0360 - categorical_accuracy: 0.6114 - val_loss: 0.0988 - val_categorical_accuracy: 0.9871 - 15s/epoch - 14ms/step\n",
      "Epoch 21/30\n",
      "1012/1012 - 15s - loss: 1.0378 - categorical_accuracy: 0.6108 - val_loss: 0.0936 - val_categorical_accuracy: 0.9869 - 15s/epoch - 15ms/step\n",
      "Epoch 22/30\n",
      "1012/1012 - 15s - loss: 1.0345 - categorical_accuracy: 0.6135 - val_loss: 0.0970 - val_categorical_accuracy: 0.9851 - 15s/epoch - 15ms/step\n",
      "Epoch 23/30\n",
      "1012/1012 - 15s - loss: 1.0238 - categorical_accuracy: 0.6199 - val_loss: 0.0967 - val_categorical_accuracy: 0.9862 - 15s/epoch - 15ms/step\n",
      "Epoch 24/30\n",
      "1012/1012 - 15s - loss: 1.0208 - categorical_accuracy: 0.6217 - val_loss: 0.0976 - val_categorical_accuracy: 0.9857 - 15s/epoch - 15ms/step\n",
      "Epoch 25/30\n",
      "1012/1012 - 15s - loss: 1.0112 - categorical_accuracy: 0.6246 - val_loss: 0.1035 - val_categorical_accuracy: 0.9854 - 15s/epoch - 14ms/step\n",
      "Epoch 26/30\n",
      "1012/1012 - 15s - loss: 1.0052 - categorical_accuracy: 0.6270 - val_loss: 0.0983 - val_categorical_accuracy: 0.9858 - 15s/epoch - 14ms/step\n"
     ]
    },
    {
     "data": {
      "text/plain": [
       "<Figure size 1200x400 with 2 Axes>"
      ],
      "image/png": "[encoded data removed]"
     },
     "metadata": {},
     "output_type": "display_data"
    }
   ],
   "execution_count": 8
  },
  {
   "metadata": {
    "ExecuteTime": {
     "end_time": "2024-11-09T08:37:03.613876Z",
     "start_time": "2024-11-09T08:36:57.690731Z"
    }
   },
   "cell_type": "code",
   "source": [
    "\n",
    "# 评估模型\n",
    "test_loss, test_acc = model.evaluate(x_test, y_test)\n",
    "print(f'\\n测试集的总体准确率: {test_acc:.2f}')\n",
    "\n",
    "# 获取预测结果\n",
    "y_pred = model.predict(x_test)\n",
    "y_pred_classes = np.argmax(y_pred, axis=1)\n",
    "y_test_classes = np.argmax(y_test, axis=1)\n",
    "\n",
    "# 计算每种类别的错误率\n",
    "error_rates = {}\n",
    "for label in range(NUM):\n",
    "    label_indices = np.where(y_test_classes == label)[0]\n",
    "    label_correct = np.sum(y_pred_classes[label_indices] == y_test_classes[label_indices])\n",
    "    label_total = len(label_indices)\n",
    "    label_error_rate = 1 - (label_correct / label_total)\n",
    "    error_rates[label] = label_error_rate\n",
    "\n",
    "print(\"\\n每种类别的错误率:\")\n",
    "for label, error_rate in error_rates.items():\n",
    "    print(f'类别 {label}: {error_rate:.2f}')\n",
    "    "
   ],
   "outputs": [
    {
     "name": "stdout",
     "output_type": "stream",
     "text": [
      "1012/1012 [==============================] - 3s 3ms/step - loss: 0.0936 - categorical_accuracy: 0.9869\n",
      "\n",
      "测试集的总体准确率: 0.99\n",
      "1012/1012 [==============================] - 2s 2ms/step\n",
      "\n",
      "每种类别的错误率:\n",
      "类别 0: 0.01\n",
      "类别 1: 0.01\n",
      "类别 2: 0.03\n",
      "类别 3: 0.01\n",
      "类别 4: 0.02\n",
      "类别 5: 0.01\n",
      "类别 6: 0.01\n",
      "类别 7: 0.01\n",
      "类别 8: 0.02\n",
      "类别 9: 0.02\n",
      "类别 10: 0.02\n",
      "类别 11: 0.00\n",
      "类别 12: 0.00\n",
      "类别 13: 0.01\n"
     ]
    }
   ],
   "execution_count": 9
  },
  {
   "metadata": {
    "ExecuteTime": {
     "end_time": "2024-11-09T08:37:19.930821Z",
     "start_time": "2024-11-09T08:37:03.647864Z"
    }
   },
   "cell_type": "code",
   "source": [
    "# 导出模型\n",
    "model.save(\"mnist.h5\")\n",
    "model.export(\"mnist\")\n",
    "# 调用转换脚本\n",
    "!python tools/h5_to_tflite.py mnist mnist.tflite 1 qmnist/all 0to1\n",
    "!python tools/tflite2tmdl.py mnist.tflite mnist.tmdl int8 1 28,28,1 14 1"
   ],
   "outputs": [
    {
     "name": "stdout",
     "output_type": "stream",
     "text": [
      "INFO:tensorflow:Assets written to: mnist\\assets\n"
     ]
    },
    {
     "name": "stderr",
     "output_type": "stream",
     "text": [
      "INFO:tensorflow:Assets written to: mnist\\assets\n"
     ]
    },
    {
     "name": "stdout",
     "output_type": "stream",
     "text": [
      "Saved artifact at 'mnist'. The following endpoints are available:\n",
      "\n",
      "* Endpoint 'serve'\n",
      "  Args:\n",
      "    args_0: float32 Tensor, shape=(None, 28, 28, 1)\n",
      "  Returns:\n",
      "    float32 Tensor, shape=(None, 14)\n",
      "Done, quant used time:3.024524450302124\n"
     ]
    },
    {
     "name": "stderr",
     "output_type": "stream",
     "text": [
      "2024-11-09 16:37:09.503053: I tensorflow/core/platform/cpu_feature_guard.cc:182] This TensorFlow binary is optimized to use available CPU instructions in performance-critical operations.\n",
      "To enable the following instructions: SSE SSE2 SSE3 SSE4.1 SSE4.2 AVX AVX2 AVX512F AVX512_VNNI AVX512_BF16 FMA, in other operations, rebuild TensorFlow with the appropriate compiler flags.\n",
      "WARNING:tensorflow:From E:\\ai-arithmetic\\ai-arithmetic\\train\\.venv\\lib\\site-packages\\tensorflow\\lite\\python\\convert_saved_model.py:42: load (from tensorflow.python.saved_model.loader_impl) is deprecated and will be removed in a future version.\n",
      "Instructions for updating:\n",
      "Use `tf.saved_model.load` instead.\n",
      "2024-11-09 16:37:09.548694: I tensorflow/compiler/mlir/mlir_graph_optimization_pass.cc:382] MLIR V1 optimization pass is not enabled\n",
      "2024-11-09 16:37:09.682556: I tensorflow/core/grappler/devices.cc:75] Number of eligible GPUs (core count >= 8, compute capability >= 0.0): 0 (Note: TensorFlow was not compiled with CUDA or ROCm support)\n",
      "2024-11-09 16:37:09.682674: I tensorflow/core/grappler/clusters/single_machine.cc:361] Starting new session\n",
      "WARNING:tensorflow:From E:\\ai-arithmetic\\ai-arithmetic\\train\\.venv\\lib\\site-packages\\tensorflow\\lite\\python\\util.py:305: convert_variables_to_constants (from tensorflow.python.framework.convert_to_constants) is deprecated and will be removed in a future version.\n",
      "Instructions for updating:\n",
      "This API was designed for TensorFlow v1. See https://www.tensorflow.org/guide/migrate for instructions on how to migrate your code to TensorFlow v2.\n",
      "WARNING:tensorflow:From E:\\ai-arithmetic\\ai-arithmetic\\train\\.venv\\lib\\site-packages\\tensorflow\\python\\framework\\convert_to_constants.py:946: extract_sub_graph (from tensorflow.python.framework.graph_util_impl) is deprecated and will be removed in a future version.\n",
      "Instructions for updating:\n",
      "This API was designed for TensorFlow v1. See https://www.tensorflow.org/guide/migrate for instructions on how to migrate your code to TensorFlow v2.\n",
      "2024-11-09 16:37:09.927269: I tensorflow/core/grappler/devices.cc:75] Number of eligible GPUs (core count >= 8, compute capability >= 0.0): 0 (Note: TensorFlow was not compiled with CUDA or ROCm support)\n",
      "2024-11-09 16:37:09.927401: I tensorflow/core/grappler/clusters/single_machine.cc:361] Starting new session\n",
      "Use '@tf.function' or '@defun' to decorate the function.\n",
      "Use '@tf.function' or '@defun' to decorate the function.\n",
      "Use '@tf.function' or '@defun' to decorate the function.\n",
      "Use '@tf.function' or '@defun' to decorate the function.\n",
      "Use '@tf.function' or '@defun' to decorate the function.\n",
      "Use '@tf.function' or '@defun' to decorate the function.\n",
      "Use '@tf.function' or '@defun' to decorate the function.\n",
      "Use '@tf.function' or '@defun' to decorate the function.\n",
      "Use '@tf.function' or '@defun' to decorate the function.\n",
      "Use '@tf.function' or '@defun' to decorate the function.\n",
      "Use '@tf.function' or '@defun' to decorate the function.\n",
      "Use '@tf.function' or '@defun' to decorate the function.\n",
      "Use '@tf.function' or '@defun' to decorate the function.\n",
      "Use '@tf.function' or '@defun' to decorate the function.\n",
      "Use '@tf.function' or '@defun' to decorate the function.\n",
      "Use '@tf.function' or '@defun' to decorate the function.\n",
      "Use '@tf.function' or '@defun' to decorate the function.\n",
      "Use '@tf.function' or '@defun' to decorate the function.\n",
      "Use '@tf.function' or '@defun' to decorate the function.\n",
      "Use '@tf.function' or '@defun' to decorate the function.\n",
      "Use '@tf.function' or '@defun' to decorate the function.\n",
      "Use '@tf.function' or '@defun' to decorate the function.\n",
      "Use '@tf.function' or '@defun' to decorate the function.\n",
      "2024-11-09 16:37:10.020611: W tensorflow/compiler/mlir/lite/python/tf_tfl_flatbuffer_helpers.cc:378] Ignored output_format.\n",
      "2024-11-09 16:37:10.020640: W tensorflow/compiler/mlir/lite/python/tf_tfl_flatbuffer_helpers.cc:381] Ignored drop_control_dependency.\n",
      "fully_quantize: 0, inference_type: 6, input_inference_type: INT8, output_inference_type: INT8\n"
     ]
    },
    {
     "name": "stdout",
     "output_type": "stream",
     "text": [
      "CONV_2D\n",
      "{'dilation_h_factor': 1, 'dilation_w_factor': 1, 'fused_activation_function': 1, 'padding': 0, 'stride_h': 2, 'stride_w': 2}\n",
      "    input: serving_default_ftr0a_input\n",
      "    output: sequential/relu0/Relu;StatefulPartitionedCall_1/StatefulPartitionedCall/sequential/relu0/Relu;sequential/bn0/FusedBatchNormV3;StatefulPartitionedCall_1/StatefulPartitionedCall/sequential/bn0/FusedBatchNormV3;ftr0a/bias;sequential/ftr0a/BiasAdd;StatefulPartitionedCall_1/StatefulPartitionedCall/sequential/ftr0a/BiasAdd;sequential/ftr0a/Conv2D;StatefulPartitionedCall_1/StatefulPartitionedCall/sequential/ftr0a/Conv2D1\n",
      "    filter 9: sequential/ftr0a/Conv2D;StatefulPartitionedCall_1/StatefulPartitionedCall/sequential/ftr0a/Conv2D \n",
      "    bias 8: sequential/relu0/Relu;StatefulPartitionedCall_1/StatefulPartitionedCall/sequential/relu0/Relu;sequential/bn0/FusedBatchNormV3;StatefulPartitionedCall_1/StatefulPartitionedCall/sequential/bn0/FusedBatchNormV3;ftr0a/bias;sequential/ftr0a/BiasAdd;StatefulPartitionedCall_1/StatefulPartitionedCall/sequential/ftr0a/BiasAdd;sequential/ftr0a/Conv2D;StatefulPartitionedCall_1/StatefulPartitionedCall/sequential/ftr0a/Conv2D\n",
      "CONV_2D\n",
      "{'dilation_h_factor': 1, 'dilation_w_factor': 1, 'fused_activation_function': 1, 'padding': 0, 'stride_h': 2, 'stride_w': 2}\n",
      "    input: sequential/relu0/Relu;StatefulPartitionedCall_1/StatefulPartitionedCall/sequential/relu0/Relu;sequential/bn0/FusedBatchNormV3;StatefulPartitionedCall_1/StatefulPartitionedCall/sequential/bn0/FusedBatchNormV3;ftr0a/bias;sequential/ftr0a/BiasAdd;StatefulPartitionedCall_1/StatefulPartitionedCall/sequential/ftr0a/BiasAdd;sequential/ftr0a/Conv2D;StatefulPartitionedCall_1/StatefulPartitionedCall/sequential/ftr0a/Conv2D1\n",
      "    output: sequential/relu1/Relu;StatefulPartitionedCall_1/StatefulPartitionedCall/sequential/relu1/Relu;sequential/bn1/FusedBatchNormV3;StatefulPartitionedCall_1/StatefulPartitionedCall/sequential/bn1/FusedBatchNormV3;ftr1a/bias;sequential/ftr1a/BiasAdd;StatefulPartitionedCall_1/StatefulPartitionedCall/sequential/ftr1a/BiasAdd;sequential/ftr1a/Conv2D;StatefulPartitionedCall_1/StatefulPartitionedCall/sequential/ftr1a/Conv2D1\n",
      "    filter 7: sequential/ftr1a/Conv2D;StatefulPartitionedCall_1/StatefulPartitionedCall/sequential/ftr1a/Conv2D \n",
      "    bias 6: sequential/relu1/Relu;StatefulPartitionedCall_1/StatefulPartitionedCall/sequential/relu1/Relu;sequential/bn1/FusedBatchNormV3;StatefulPartitionedCall_1/StatefulPartitionedCall/sequential/bn1/FusedBatchNormV3;ftr1a/bias;sequential/ftr1a/BiasAdd;StatefulPartitionedCall_1/StatefulPartitionedCall/sequential/ftr1a/BiasAdd;sequential/ftr1a/Conv2D;StatefulPartitionedCall_1/StatefulPartitionedCall/sequential/ftr1a/Conv2D\n",
      "RESHAPE\n",
      "None\n",
      "    input: sequential/relu1/Relu;StatefulPartitionedCall_1/StatefulPartitionedCall/sequential/relu1/Relu;sequential/bn1/FusedBatchNormV3;StatefulPartitionedCall_1/StatefulPartitionedCall/sequential/bn1/FusedBatchNormV3;ftr1a/bias;sequential/ftr1a/BiasAdd;StatefulPartitionedCall_1/StatefulPartitionedCall/sequential/ftr1a/BiasAdd;sequential/ftr1a/Conv2D;StatefulPartitionedCall_1/StatefulPartitionedCall/sequential/ftr1a/Conv2D1\n",
      "    output: sequential/flatten/Reshape;StatefulPartitionedCall_1/StatefulPartitionedCall/sequential/flatten/Reshape\n",
      "    reshape no param\n",
      "FULLY_CONNECTED\n",
      "{'asymmetric_quantize_inputs': False, 'fused_activation_function': 0, 'keep_num_dims': False, 'weights_format': 0}\n",
      "    input: sequential/flatten/Reshape;StatefulPartitionedCall_1/StatefulPartitionedCall/sequential/flatten/Reshape\n",
      "    output: sequential/fc1/MatMul;StatefulPartitionedCall_1/StatefulPartitionedCall/sequential/fc1/MatMul;sequential/fc1/BiasAdd;StatefulPartitionedCall_1/StatefulPartitionedCall/sequential/fc1/BiasAdd\n",
      "    weight: sequential/fc1/MatMul;StatefulPartitionedCall_1/StatefulPartitionedCall/sequential/fc1/MatMul\n",
      "    bias: fc1/bias\n",
      "SOFTMAX\n",
      "{'beta': 1.0}\n",
      "    input: sequential/fc1/MatMul;StatefulPartitionedCall_1/StatefulPartitionedCall/sequential/fc1/MatMul;sequential/fc1/BiasAdd;StatefulPartitionedCall_1/StatefulPartitionedCall/sequential/fc1/BiasAdd\n",
      "    output: sequential/sm1/Softmax;StatefulPartitionedCall_1/StatefulPartitionedCall/sequential/sm1/Softmax\n",
      "    softmax no param\n",
      "FULLY_CONNECTED\n",
      "{'asymmetric_quantize_inputs': False, 'fused_activation_function': 0, 'keep_num_dims': False, 'weights_format': 0}\n",
      "    input: sequential/sm1/Softmax;StatefulPartitionedCall_1/StatefulPartitionedCall/sequential/sm1/Softmax\n",
      "    output: sequential/fc2/MatMul;StatefulPartitionedCall_1/StatefulPartitionedCall/sequential/fc2/MatMul;sequential/fc2/BiasAdd;StatefulPartitionedCall_1/StatefulPartitionedCall/sequential/fc2/BiasAdd\n",
      "    weight: sequential/fc2/MatMul;StatefulPartitionedCall_1/StatefulPartitionedCall/sequential/fc2/MatMul\n",
      "    bias: fc2/bias\n",
      "SOFTMAX\n",
      "{'beta': 1.0}\n",
      "OUTPUT!\n",
      "    input: sequential/fc2/MatMul;StatefulPartitionedCall_1/StatefulPartitionedCall/sequential/fc2/MatMul;sequential/fc2/BiasAdd;StatefulPartitionedCall_1/StatefulPartitionedCall/sequential/fc2/BiasAdd\n",
      "    output: StatefulPartitionedCall_1\n",
      "    softmax no param\n",
      "ping-pong buf 5488 Byte, ADD-buf 0 Byte; Total 5488 Byte\n",
      "================ pack model head ================\n",
      "mdl_type   =0\n",
      "out_deq    =1\n",
      "input_cnt  =1\n",
      "output_cnt =1\n",
      "layer_cnt  =7\n",
      "buf_size   =5488, keep_size=0, Total=5488\n",
      "sub_size   =0\n",
      "in_dims    = [3, 28, 28, 1]\n",
      "out_dims   = [1, 1, 1, 14]\n",
      "================   pack layers   ================\n",
      "CONV_2D    \n",
      "    [3, 28, 28, 1] [3, 14, 14, 24]\n",
      "    in_oft:0, size:784;  out_oft:784, size:4704\n",
      "    padding same(T,B,L,R): 0,1,0,1\n",
      "    layer_size=488\n",
      "CONV_2D    \n",
      "    [3, 14, 14, 24] [3, 7, 7, 12]\n",
      "    in_oft:784, size:4704;  out_oft:0, size:592\n",
      "    padding same(T,B,L,R): 0,1,0,1\n",
      "    layer_size=2768\n",
      "RESHAPE    \n",
      "    [3, 7, 7, 12] [1, 1, 1, 588]\n",
      "    in_oft:0, size:592;  out_oft:0, size:592\n",
      "    layer_size=48\n",
      "FULLY_CONNECTED    \n",
      "    [1, 1, 1, 588] [1, 1, 1, 16]\n",
      "    in_oft:0, size:592;  out_oft:5472, size:16\n",
      "    layer_size=9600\n",
      "SOFTMAX    \n",
      "    [1, 1, 1, 16] [1, 1, 1, 16]\n",
      "    in_oft:5472, size:16;  out_oft:0, size:64\n",
      "    layer_size=48\n",
      "FULLY_CONNECTED    \n",
      "    [1, 1, 1, 16] [1, 1, 1, 14]\n",
      "    in_oft:0, size:64;  out_oft:5472, size:16\n",
      "    layer_size=400\n",
      "SOFTMAX    \n",
      "    [1, 1, 1, 14] [1, 1, 1, 14]\n",
      "    OUTPUT!\n",
      "    in_oft:5472, size:16;  out_oft:0, size:72\n",
      "    layer_size=48\n",
      "================    pack done!   ================\n",
      "    model  size 13.1KB (13464 B) FLASH\n",
      "    buffer size 5.4KB (5488 B) RAM\n",
      "    single layer mode subbuff size 9.4KB (64+9600=9664 B) RAM\n",
      "Saved to mnist.tmdl, mnist.h\n"
     ]
    },
    {
     "name": "stderr",
     "output_type": "stream",
     "text": [
      "INFO: Created TensorFlow Lite XNNPACK delegate for CPU.\n"
     ]
    }
   ],
   "execution_count": 10
  }
 ]
}
